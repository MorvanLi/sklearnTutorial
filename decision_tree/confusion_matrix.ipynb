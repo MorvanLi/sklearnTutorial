{
 "cells": [
  {
   "cell_type": "markdown",
   "id": "1b1ff583",
   "metadata": {},
   "source": [
    "# 混淆矩阵"
   ]
  },
  {
   "cell_type": "markdown",
   "id": "f2c27705",
   "metadata": {},
   "source": [
    "<div align=\"center\">\n",
    "<img src=\"./images/confusion_matrix.png\"\" width=\"70%\" alt=\"bar\"/>\n",
    "</div>"
   ]
  },
  {
   "cell_type": "markdown",
   "id": "a853946c",
   "metadata": {},
   "source": [
    "为了方便理解，TP FP FN TN这些概念，对于T和F而言是只能说真实样本对应的标签，而对于正样本和负样本是预测样本的属性。**<font color=red>所以对于第一行预测值为1而言，属性只能是P, 对于第二行预测值为0而言，属性只能是N</font>**"
   ]
  },
  {
   "cell_type": "markdown",
   "id": "a587e674",
   "metadata": {},
   "source": [
    "## 准确率"
   ]
  },
  {
   "cell_type": "markdown",
   "id": "83268100",
   "metadata": {},
   "source": [
    "总样本中预测对了多少,上述表格中总共预测对了7个, 7/10=70%"
   ]
  },
  {
   "cell_type": "markdown",
   "id": "35ab3b67",
   "metadata": {},
   "source": [
    "## 精确率（Precision）"
   ]
  },
  {
   "cell_type": "markdown",
   "id": "ba6d2d2e",
   "metadata": {},
   "source": [
    "预测为正的样本中师实际为正的有多少"
   ]
  },
  {
   "cell_type": "markdown",
   "id": "ab54125e",
   "metadata": {},
   "source": [
    " $$ Precision=\\frac{TP}{TP + FP} \\tag{1}$$"
   ]
  },
  {
   "cell_type": "markdown",
   "id": "01861fee",
   "metadata": {},
   "source": [
    "预测为正的有4个，实际为正的有3个，所以 3/4 = 75%"
   ]
  },
  {
   "cell_type": "markdown",
   "id": "c3e59c3b",
   "metadata": {},
   "source": [
    "## 召回率（recall）"
   ]
  },
  {
   "cell_type": "markdown",
   "id": "8ca69463",
   "metadata": {},
   "source": [
    "$$ Recall=\\frac{TP}{TP + FN} \\tag{2}$$"
   ]
  },
  {
   "cell_type": "markdown",
   "id": "d8017aa6",
   "metadata": {},
   "source": [
    "实际为正的样本中有多少预测为正"
   ]
  },
  {
   "cell_type": "markdown",
   "id": "6d4f16c9",
   "metadata": {},
   "source": [
    "实际为正的有5个，预测为正的有3个，所以 3/5 = 60%"
   ]
  },
  {
   "cell_type": "markdown",
   "id": "0b23e7dc",
   "metadata": {},
   "source": [
    "## F1 "
   ]
  },
  {
   "cell_type": "markdown",
   "id": "7e2f7572",
   "metadata": {},
   "source": [
    "$$ F_{1} =\\frac{ 2\\times Precision\\times Recall}{Precision+Recall} \\tag{3} $$"
   ]
  },
  {
   "cell_type": "code",
   "execution_count": null,
   "id": "f12d5b77",
   "metadata": {},
   "outputs": [],
   "source": []
  }
 ],
 "metadata": {
  "kernelspec": {
   "display_name": "Python [conda env:sklearn_venv] *",
   "language": "python",
   "name": "conda-env-sklearn_venv-py"
  },
  "language_info": {
   "codemirror_mode": {
    "name": "ipython",
    "version": 3
   },
   "file_extension": ".py",
   "mimetype": "text/x-python",
   "name": "python",
   "nbconvert_exporter": "python",
   "pygments_lexer": "ipython3",
   "version": "3.6.13"
  },
  "toc": {
   "base_numbering": 1,
   "nav_menu": {},
   "number_sections": true,
   "sideBar": true,
   "skip_h1_title": false,
   "title_cell": "Table of Contents",
   "title_sidebar": "Contents",
   "toc_cell": false,
   "toc_position": {},
   "toc_section_display": true,
   "toc_window_display": false
  }
 },
 "nbformat": 4,
 "nbformat_minor": 5
}
